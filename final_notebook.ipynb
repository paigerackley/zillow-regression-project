{
 "cells": [
  {
   "cell_type": "code",
   "execution_count": 1,
   "id": "a13f767f",
   "metadata": {},
   "outputs": [],
   "source": [
    "import warnings\n",
    "warnings.filterwarnings(\"ignore\")\n",
    "\n",
    "import pandas as pd\n",
    "import matplotlib.pyplot as plt\n",
    "import seaborn as sns\n",
    "import numpy as np\n",
    "from scipy import stats \n",
    "\n",
    "from sklearn.metrics import mean_squared_error\n",
    "from sklearn.model_selection import train_test_split\n",
    "from sklearn.model_selection import train_test_split\n",
    "from sklearn.preprocessing import MinMaxScaler, StandardScaler, RobustScaler\n",
    "from sklearn.linear_model import LinearRegression, LassoLars, TweedieRegressor\n",
    "from sklearn.preprocessing import PolynomialFeatures\n",
    "\n",
    "# Custom Imports\n",
    "import wrangle\n",
    "from env import get_db_url"
   ]
  },
  {
   "cell_type": "markdown",
   "id": "1db9787f",
   "metadata": {},
   "source": [
    "# Regression Project: Zillow Property Values"
   ]
  },
  {
   "attachments": {
    "house%20clip%20art.png": {
     "image/png": "[encoded data removed]"
    }
   },
   "cell_type": "markdown",
   "id": "d05c2c4f",
   "metadata": {},
   "source": [
    "![house%20clip%20art.png](attachment:house%20clip%20art.png)"
   ]
  },
  {
   "cell_type": "markdown",
   "id": "d9b3501f",
   "metadata": {},
   "source": [
    "# Project Objectives: \n",
    "\n",
    "\n",
    "We are wanting to gather data to create a new model to predict property values. We have one currently that we would like to improve upon and use our data as a tool to help us find trends that can help our predictions. At Zillow, this data is important because our customers need to be able to trust that we can give them accurate predictions for value.\n",
    "\n",
    "- Construct a Regression model that can properly predict the estimated property value of Single Family Properties .\n",
    "\n",
    "- Present a report to team that shows my processes and how I came to my conclusions.\n",
    "\n",
    "- Make recommendations on what are attributes to consider when predicting property value."
   ]
  },
  {
   "cell_type": "markdown",
   "id": "f7ac4d46",
   "metadata": {},
   "source": [
    "# Project Goals:\n",
    "\n",
    "As a Junior Data Scientist, my goals are to use the data I have to create a ML Regression model that beats our current model on predicting property value. I want to be able to zero in on potential factors that I find correlate most to predicting these values, as it is very important to our company to be trustworthy with the information we provide our customers. "
   ]
  },
  {
   "cell_type": "markdown",
   "id": "573b9fc2",
   "metadata": {},
   "source": [
    "# Wrangle The Data"
   ]
  },
  {
   "cell_type": "markdown",
   "id": "4d62202f",
   "metadata": {},
   "source": [
    "## Step 1: Acquire\n",
    "\n",
    "<b> Data was acquired from Zillow database in MySQL Workbench. </b>"
   ]
  },
  {
   "cell_type": "code",
   "execution_count": 2,
   "id": "1d95a856",
   "metadata": {},
   "outputs": [],
   "source": [
    "df = wrangle.get_new_zillow_data()\n",
    "# Acquire unedited db"
   ]
  },
  {
   "cell_type": "markdown",
   "id": "c9490251",
   "metadata": {},
   "source": [
    "In this step, I used SQL queries to pull what I wanted from Zillows tables. \n",
    "\n",
    "I went with pulling bedroomcnt, bathroomcnt, calculatedfinishedsquarefeet, taxvaluedollarcnt, yearbuilt, regionidzip as zipcode, fips from properties 2017 table. \n",
    "\n",
    "I renamed regionidzip to zipcode right away for readability. I then joined propertylandusetype and predictions_2017 to get all the data I wanted in one place."
   ]
  },
  {
   "cell_type": "markdown",
   "id": "72839aa2",
   "metadata": {},
   "source": [
    "## Step 2: Prepare"
   ]
  },
  {
   "cell_type": "markdown",
   "id": "0cc7ba0d",
   "metadata": {},
   "source": [
    "In this step, I created multiple functions that were meant to help me prepare my data for both exploration and modeling.\n",
    "\n",
    "\n",
    "Functions created:\n",
    "\n",
    "<b><font color='green'> train_validate_test_split </font></b> : This function splits the data into the 3 sets needed for exploring and statistical tests.\n",
    "<b><font color='green'> scale_split_data </font></b> : This function scales the the 3 split data sets. \n",
    "\n",
    "<b><font color='green'> wrangle_zillow </font></b> : This function has the acquire function nested inside of it, but also starts to sort through the data. This function is also only intended to be used during my exploration phase, as it is not scaled or split yet.\n",
    "\n",
    "Steps implemented: \n",
    "  - Dropped all nulls by row (The amount of data loss that happens here is less than 1%, it is worth it)\n",
    "  - Converted columns to integers (fips, yearbuilt, bedroomcnt, taxvalluedollarcnt, calculatedfinishedsquarefeet)\n",
    "  - Renamed calculatedsquarefeet to something easier and smaller = square_feet\n",
    "  - I decided to narrow down my search and get rid of outliers by adding in criteria\n",
    "\n",
    "          -> Square feet was narrowed down to between 400 and 100,00\n",
    "      \n",
    "          -> Taxvalluedollarcount narrowed to 10,000 - 2,000,000\n",
    "      \n",
    "          -> Taxamount to 300 - 300,000\n",
    "      \n",
    "          -> Bathroom and bedroom count to 7 or less\n",
    "      \n",
    "          -> Made sure that any values that were either null or 0 for bedroom/bathroom to be taken out.\n",
    "      \n",
    "  - Converted fips to fips_name and named the zip codes (6037, 'Los Angeles', 6059, 'Orange','Ventura')\n",
    "\n",
    "### The Big One...\n",
    "\n",
    "<b><font color='green'> wrangle_split_scale </font></b> : This function is meant to take all prior functions and put them all in one. It wrangles, splits and scales the data meant to be used for modeling.\n"
   ]
  },
  {
   "cell_type": "markdown",
   "id": "f7eab7b3",
   "metadata": {},
   "source": [
    "# Explore"
   ]
  },
  {
   "cell_type": "markdown",
   "id": "47f7affa",
   "metadata": {},
   "source": [
    "## The Big Question: How do we determine home value?\n",
    "\n",
    "Our target variable is taxvalluedollarcnt, so we will be comparing the other columns to this to determine our goal. \n",
    "\n",
    "###  Executive Summary: \n",
    "Evidence from stats tests and visualizations supports the claim that these square feet, bathrooms count and bedroom count are a few of the major features that can help predict property tax value. My recommendation is to focus on square feet, bathroom and bedroom count when trying to predict property value. I also found that the zip codes had big differences in property value for many of the features tested, so to get accurate results, it would be best to focus on each zip code one at a time."
   ]
  },
  {
   "cell_type": "markdown",
   "id": "73018700",
   "metadata": {},
   "source": [
    "## Initial Hypothesis : \n",
    "- County (fips_name) is associated with property value.\n",
    "- Square feet (calculatedsquarefeet) is associated with property value.\n",
    "- Homes with more beds are associated with a higher property value.\n",
    "- Homes with more baths are associated with a higher propery value.\n",
    "- Year built is associated with property value."
   ]
  },
  {
   "cell_type": "code",
   "execution_count": 3,
   "id": "cbf58d4b",
   "metadata": {},
   "outputs": [],
   "source": [
    "# First, lets call what we need.\n",
    "df = wrangle.wrangle_zillow()\n",
    "train, validate, test = wrangle.train_validate_test_split(df)"
   ]
  },
  {
   "cell_type": "markdown",
   "id": "0548daf9",
   "metadata": {},
   "source": [
    "#### For my visuals, I will be splitting them into the 3 counties to break down my analysis further to help expand on the county relevancy for property values."
   ]
  },
  {
   "cell_type": "markdown",
   "id": "6eb46b35",
   "metadata": {},
   "source": [
    "# Question: Is square feet associated with property value?"
   ]
  },
  {
   "cell_type": "code",
   "execution_count": 4,
   "id": "6b300454",
   "metadata": {},
   "outputs": [
    {
     "data": {
      "text/plain": [
       "<seaborn.axisgrid.FacetGrid at 0x7fced2a13c40>"
      ]
     },
     "execution_count": 4,
     "metadata": {},
     "output_type": "execute_result"
    },
    {
     "data": {
      "image/png": "[encoded data removed]",
      "text/plain": [
       "<Figure size 864x288 with 3 Axes>"
      ]
     },
     "metadata": {
      "needs_background": "light"
     },
     "output_type": "display_data"
    }
   ],
   "source": [
    "# Lmplot using square_feet and tax value\n",
    "sns.lmplot(x = 'square_feet', y = 'taxvaluedollarcnt', data = train, line_kws={'color': 'red', 'linewidth': 2}, height = 4, col = 'fips_name')"
   ]
  },
  {
   "cell_type": "markdown",
   "id": "f72ea259",
   "metadata": {},
   "source": [
    "Hypothesis:\n",
    "    \n",
    "H0 = There is no relationship between square feet and property value.\n",
    "\n",
    "H1 = There is a relationship between square feet and property value."
   ]
  },
  {
   "cell_type": "code",
   "execution_count": 5,
   "id": "ab1eb9bd",
   "metadata": {},
   "outputs": [],
   "source": [
    "# Setting alpha to standard\n",
    "alpha = .05"
   ]
  },
  {
   "cell_type": "code",
   "execution_count": 6,
   "id": "d9617308",
   "metadata": {},
   "outputs": [
    {
     "name": "stdout",
     "output_type": "stream",
     "text": [
      "\n",
      "P is less than alpha. We reject the null hypothesis.\n"
     ]
    }
   ],
   "source": [
    "# Decided to run a pearsons test to see if our values will prove a relationship.\n",
    "corr, p = stats.pearsonr(train.square_feet, train.taxvaluedollarcnt) \n",
    "\n",
    "if p < alpha:\n",
    "    print('\\nP is less than alpha. We reject the null hypothesis.')"
   ]
  },
  {
   "cell_type": "markdown",
   "id": "619bbe78",
   "metadata": {},
   "source": [
    "#### Therefore, square feet has a relationship with property value."
   ]
  },
  {
   "cell_type": "markdown",
   "id": "ea15e056",
   "metadata": {},
   "source": [
    "# Question: Is the amount of bedrooms associated with property value?"
   ]
  },
  {
   "cell_type": "code",
   "execution_count": 7,
   "id": "b6132cf8",
   "metadata": {},
   "outputs": [
    {
     "data": {
      "text/plain": [
       "<seaborn.axisgrid.FacetGrid at 0x7fced2a13b80>"
      ]
     },
     "execution_count": 7,
     "metadata": {},
     "output_type": "execute_result"
    },
    {
     "data": {
      "image/png": "[encoded data removed]",
      "text/plain": [
       "<Figure size 864x288 with 3 Axes>"
      ]
     },
     "metadata": {
      "needs_background": "light"
     },
     "output_type": "display_data"
    }
   ],
   "source": [
    "# Lmplot using bedrooms and tax value\n",
    "sns.lmplot(x = 'bedroomcnt', y = 'taxvaluedollarcnt', data = train, line_kws={'color': 'red', 'linewidth': 2}, height = 4, col = 'fips_name')"
   ]
  },
  {
   "cell_type": "markdown",
   "id": "364faefa",
   "metadata": {},
   "source": [
    "Hypothesis:\n",
    "    \n",
    "H0 = There is no relationship between bedrooms and property value.\n",
    "\n",
    "H1 = There is a relationship between bedrooms and property value."
   ]
  },
  {
   "cell_type": "code",
   "execution_count": 8,
   "id": "4629f017",
   "metadata": {},
   "outputs": [
    {
     "name": "stdout",
     "output_type": "stream",
     "text": [
      "\n",
      "P is less than alpha. We reject the null hypothesis.\n"
     ]
    }
   ],
   "source": [
    "# Pearsons test to see if our values will prove a relationship.\n",
    "corr, p = stats.pearsonr(train.bedroomcnt, train.taxvaluedollarcnt) \n",
    "\n",
    "if p < alpha:\n",
    "    print('\\nP is less than alpha. We reject the null hypothesis.')"
   ]
  },
  {
   "cell_type": "markdown",
   "id": "5410f64d",
   "metadata": {},
   "source": [
    "#### Therefore, bedroom count is related to higher property value."
   ]
  },
  {
   "cell_type": "markdown",
   "id": "5c01be2a",
   "metadata": {},
   "source": [
    "# Question: Is the amount of bathrooms associated with property value?"
   ]
  },
  {
   "cell_type": "code",
   "execution_count": 9,
   "id": "50422a85",
   "metadata": {},
   "outputs": [
    {
     "data": {
      "text/plain": [
       "<seaborn.axisgrid.FacetGrid at 0x7fced0b124c0>"
      ]
     },
     "execution_count": 9,
     "metadata": {},
     "output_type": "execute_result"
    },
    {
     "data": {
      "image/png": "[encoded data removed]",
      "text/plain": [
       "<Figure size 864x288 with 3 Axes>"
      ]
     },
     "metadata": {
      "needs_background": "light"
     },
     "output_type": "display_data"
    }
   ],
   "source": [
    "# Lmplot using bathrooms and tax value\n",
    "sns.lmplot(x = 'bathroomcnt', y = 'taxvaluedollarcnt', data = train, line_kws={'color': 'red', 'linewidth': 2}, height = 4, col = 'fips_name')"
   ]
  },
  {
   "cell_type": "markdown",
   "id": "6586f886",
   "metadata": {},
   "source": [
    "Hypothesis:\n",
    "    \n",
    "H0 = There is no relationship between bathrooms and property value.\n",
    "\n",
    "H1 = There is a relationship between bathrooms and property value."
   ]
  },
  {
   "cell_type": "code",
   "execution_count": 10,
   "id": "e34aa9a3",
   "metadata": {},
   "outputs": [
    {
     "name": "stdout",
     "output_type": "stream",
     "text": [
      "\n",
      "P is less than alpha. We reject the null hypothesis.\n"
     ]
    }
   ],
   "source": [
    "# Pearsons test to see if our values will prove a relationship.\n",
    "corr, p = stats.pearsonr(train.bathroomcnt, train.taxvaluedollarcnt) \n",
    "\n",
    "if p < alpha:\n",
    "    print('\\nP is less than alpha. We reject the null hypothesis.')"
   ]
  },
  {
   "cell_type": "markdown",
   "id": "f2668534",
   "metadata": {},
   "source": [
    "#### Therefore, the number of bathrooms is related to higher property value."
   ]
  },
  {
   "cell_type": "markdown",
   "id": "1a5c6d8f",
   "metadata": {},
   "source": [
    "# Question: Is the year built associated with property value?"
   ]
  },
  {
   "cell_type": "code",
   "execution_count": 11,
   "id": "0b88419f",
   "metadata": {},
   "outputs": [
    {
     "data": {
      "text/plain": [
       "<seaborn.axisgrid.FacetGrid at 0x7fcef1f72a00>"
      ]
     },
     "execution_count": 11,
     "metadata": {},
     "output_type": "execute_result"
    },
    {
     "data": {
      "image/png": "[encoded data removed]",
      "text/plain": [
       "<Figure size 864x288 with 3 Axes>"
      ]
     },
     "metadata": {
      "needs_background": "light"
     },
     "output_type": "display_data"
    }
   ],
   "source": [
    "# Lmplot using yearbuilt and tax value\n",
    "sns.lmplot(x = 'yearbuilt', y = 'taxvaluedollarcnt', data = train, line_kws={'color': 'red', 'linewidth': 2}, height = 4, col = 'fips_name')"
   ]
  },
  {
   "cell_type": "markdown",
   "id": "5a5f39a7",
   "metadata": {},
   "source": [
    "Hypothesis:\n",
    "    \n",
    "H0 = There is no relationship between year built and property value.\n",
    "\n",
    "H1 = There is a relationship between year built and property value."
   ]
  },
  {
   "cell_type": "code",
   "execution_count": 12,
   "id": "1c8f7800",
   "metadata": {},
   "outputs": [
    {
     "name": "stdout",
     "output_type": "stream",
     "text": [
      "\n",
      "P is less than alpha. We reject the null hypothesis.\n"
     ]
    }
   ],
   "source": [
    "# Pearsons test to see if our values will prove a relationship.\n",
    "corr, p = stats.pearsonr(train.yearbuilt, train.taxvaluedollarcnt) \n",
    "\n",
    "if p < alpha:\n",
    "    print('\\nP is less than alpha. We reject the null hypothesis.')"
   ]
  },
  {
   "cell_type": "markdown",
   "id": "e2e46671",
   "metadata": {},
   "source": [
    "#### Therefore, the year built is assocaited with property value."
   ]
  },
  {
   "cell_type": "markdown",
   "id": "232fe4b0",
   "metadata": {},
   "source": [
    "## Exploration summary:\n",
    "\n",
    "Exploration using visuals and statistical tests prove that all variables are associated with higher property values. We will move forward with our modeling using square_feet, year_built, bedroomcnt, and bathroomcnt."
   ]
  },
  {
   "cell_type": "markdown",
   "id": "eb9a2522",
   "metadata": {},
   "source": [
    "# Modeling"
   ]
  },
  {
   "cell_type": "code",
   "execution_count": 13,
   "id": "0cc4c9a9",
   "metadata": {},
   "outputs": [],
   "source": [
    "# Time to bring in my function for modeling\n",
    "train_scaled, validate_scaled, test_scaled = wrangle.wrangle_split_scale()"
   ]
  },
  {
   "cell_type": "code",
   "execution_count": 14,
   "id": "18406f43",
   "metadata": {},
   "outputs": [],
   "source": [
    "# Create the object\n",
    "# Since taxamount and taxvalue amount are so similar I don't want to move forward with \n",
    "# it in my model.\n",
    "x_train = train_scaled.drop(columns = ['taxvaluedollarcnt', 'taxamount', 'fips_name'])\n",
    "y_train = pd.DataFrame(train_scaled[['taxvaluedollarcnt']])\n",
    "\n",
    "x_validate = validate_scaled.drop(columns = ['taxvaluedollarcnt', 'taxamount','fips_name'])\n",
    "y_validate = pd.DataFrame(validate_scaled[['taxvaluedollarcnt']])\n",
    "\n",
    "x_test = test_scaled.drop(columns = ['taxvaluedollarcnt', 'taxamount', 'fips_name'])\n",
    "y_test = pd.DataFrame(test_scaled[['taxvaluedollarcnt']])"
   ]
  },
  {
   "cell_type": "markdown",
   "id": "774b7fac",
   "metadata": {},
   "source": [
    "## Setting Up The Baseline"
   ]
  },
  {
   "cell_type": "markdown",
   "id": "f5d831c8",
   "metadata": {},
   "source": [
    "For Regression, we want to decide if we need to use mean or median baseline, so lets look at both"
   ]
  },
  {
   "cell_type": "code",
   "execution_count": 15,
   "id": "af6c89c0",
   "metadata": {},
   "outputs": [],
   "source": [
    "#Create mean baseline model\n",
    "y_train['baseline_mean_pred'] = y_train['taxvaluedollarcnt'].mean()\n",
    "y_validate['baseline_mean_pred'] = y_validate['taxvaluedollarcnt'].mean()\n",
    "\n",
    "#Create median baseline model\n",
    "y_train['baseline_median_pred'] = y_train['taxvaluedollarcnt'].median()\n",
    "y_validate['baseline_median_pred'] = y_validate['taxvaluedollarcnt'].median()"
   ]
  },
  {
   "cell_type": "markdown",
   "id": "f8a782d7",
   "metadata": {},
   "source": [
    "#### Lets look at what we need to beat. "
   ]
  },
  {
   "cell_type": "code",
   "execution_count": 16,
   "id": "c2404e2c",
   "metadata": {},
   "outputs": [
    {
     "data": {
      "text/html": [
       "<div>\n",
       "<style scoped>\n",
       "    .dataframe tbody tr th:only-of-type {\n",
       "        vertical-align: middle;\n",
       "    }\n",
       "\n",
       "    .dataframe tbody tr th {\n",
       "        vertical-align: top;\n",
       "    }\n",
       "\n",
       "    .dataframe thead th {\n",
       "        text-align: right;\n",
       "    }\n",
       "</style>\n",
       "<table border=\"1\" class=\"dataframe\">\n",
       "  <thead>\n",
       "    <tr style=\"text-align: right;\">\n",
       "      <th></th>\n",
       "      <th>model</th>\n",
       "      <th>RMSE_train</th>\n",
       "      <th>RMSE_validate</th>\n",
       "    </tr>\n",
       "  </thead>\n",
       "  <tbody>\n",
       "    <tr>\n",
       "      <th>0</th>\n",
       "      <td>baseline_mean</td>\n",
       "      <td>596704.058777</td>\n",
       "      <td>621286.160927</td>\n",
       "    </tr>\n",
       "    <tr>\n",
       "      <th>1</th>\n",
       "      <td>baseline_median</td>\n",
       "      <td>612533.700708</td>\n",
       "      <td>636062.789038</td>\n",
       "    </tr>\n",
       "  </tbody>\n",
       "</table>\n",
       "</div>"
      ],
      "text/plain": [
       "             model     RMSE_train  RMSE_validate\n",
       "0    baseline_mean  596704.058777  621286.160927\n",
       "1  baseline_median  612533.700708  636062.789038"
      ]
     },
     "execution_count": 16,
     "metadata": {},
     "output_type": "execute_result"
    }
   ],
   "source": [
    "#determine RSMSE\n",
    "results = []\n",
    "\n",
    "baseline_mean = {\n",
    "    'model':'baseline_mean',\n",
    "    'RMSE_train': mean_squared_error(y_train['taxvaluedollarcnt'], y_train['baseline_mean_pred'])**(0.5),\n",
    "    'RMSE_validate': mean_squared_error(y_validate['taxvaluedollarcnt'], y_validate['baseline_mean_pred'])**(0.5)\n",
    "\n",
    "}\n",
    "baseline_median = {\n",
    "    'model':'baseline_median',\n",
    "    'RMSE_train': mean_squared_error(y_train['taxvaluedollarcnt'], y_train['baseline_median_pred'])**(0.5),\n",
    "    'RMSE_validate': mean_squared_error(y_validate['taxvaluedollarcnt'], y_validate['baseline_median_pred'])**(0.5)\n",
    "\n",
    "}\n",
    "results.append(baseline_mean)\n",
    "results.append(baseline_median)\n",
    "\n",
    "pd.DataFrame(results)"
   ]
  },
  {
   "cell_type": "markdown",
   "id": "0a544274",
   "metadata": {},
   "source": [
    "### Onwards to modeling our train and validate.."
   ]
  },
  {
   "cell_type": "markdown",
   "id": "3d1a61f1",
   "metadata": {},
   "source": [
    "## Linear Regression"
   ]
  },
  {
   "cell_type": "code",
   "execution_count": 17,
   "id": "6e3b6a2c",
   "metadata": {},
   "outputs": [
    {
     "data": {
      "text/html": [
       "<div>\n",
       "<style scoped>\n",
       "    .dataframe tbody tr th:only-of-type {\n",
       "        vertical-align: middle;\n",
       "    }\n",
       "\n",
       "    .dataframe tbody tr th {\n",
       "        vertical-align: top;\n",
       "    }\n",
       "\n",
       "    .dataframe thead th {\n",
       "        text-align: right;\n",
       "    }\n",
       "</style>\n",
       "<table border=\"1\" class=\"dataframe\">\n",
       "  <thead>\n",
       "    <tr style=\"text-align: right;\">\n",
       "      <th></th>\n",
       "      <th>model</th>\n",
       "      <th>RMSE_train</th>\n",
       "      <th>RMSE_validate</th>\n",
       "    </tr>\n",
       "  </thead>\n",
       "  <tbody>\n",
       "    <tr>\n",
       "      <th>0</th>\n",
       "      <td>baseline_mean</td>\n",
       "      <td>596704.058777</td>\n",
       "      <td>621286.160927</td>\n",
       "    </tr>\n",
       "    <tr>\n",
       "      <th>1</th>\n",
       "      <td>baseline_median</td>\n",
       "      <td>612533.700708</td>\n",
       "      <td>636062.789038</td>\n",
       "    </tr>\n",
       "    <tr>\n",
       "      <th>2</th>\n",
       "      <td>linear regression</td>\n",
       "      <td>472279.858426</td>\n",
       "      <td>489895.075498</td>\n",
       "    </tr>\n",
       "  </tbody>\n",
       "</table>\n",
       "</div>"
      ],
      "text/plain": [
       "               model     RMSE_train  RMSE_validate\n",
       "0      baseline_mean  596704.058777  621286.160927\n",
       "1    baseline_median  612533.700708  636062.789038\n",
       "2  linear regression  472279.858426  489895.075498"
      ]
     },
     "execution_count": 17,
     "metadata": {},
     "output_type": "execute_result"
    }
   ],
   "source": [
    "# Create the model\n",
    "lr = LinearRegression(normalize = True)\n",
    "lr.fit(x_train, y_train['taxvaluedollarcnt'])\n",
    "y_train['lr_train_pred'] = lr.predict(x_train)\n",
    "y_validate['lr_validate_pred'] = lr.predict(x_validate)\n",
    "# Calculate RMSE and compare\n",
    "lr_rmse = {\n",
    "    'model':'linear regression',\n",
    "    'RMSE_train': mean_squared_error(y_train['taxvaluedollarcnt'], y_train['lr_train_pred'])**(0.5),\n",
    "    'RMSE_validate': mean_squared_error(y_validate['taxvaluedollarcnt'], y_validate['lr_validate_pred'])**(0.5)\n",
    "\n",
    "}\n",
    "results.append(lr_rmse)\n",
    "pd.DataFrame(results)"
   ]
  },
  {
   "cell_type": "markdown",
   "id": "0711cef3",
   "metadata": {},
   "source": [
    "#### Linnear Regression model beats both baselines."
   ]
  },
  {
   "cell_type": "markdown",
   "id": "556c2931",
   "metadata": {},
   "source": [
    "## LassoLars"
   ]
  },
  {
   "cell_type": "code",
   "execution_count": 18,
   "id": "acfebe74",
   "metadata": {},
   "outputs": [
    {
     "data": {
      "text/html": [
       "<div>\n",
       "<style scoped>\n",
       "    .dataframe tbody tr th:only-of-type {\n",
       "        vertical-align: middle;\n",
       "    }\n",
       "\n",
       "    .dataframe tbody tr th {\n",
       "        vertical-align: top;\n",
       "    }\n",
       "\n",
       "    .dataframe thead th {\n",
       "        text-align: right;\n",
       "    }\n",
       "</style>\n",
       "<table border=\"1\" class=\"dataframe\">\n",
       "  <thead>\n",
       "    <tr style=\"text-align: right;\">\n",
       "      <th></th>\n",
       "      <th>model</th>\n",
       "      <th>RMSE_train</th>\n",
       "      <th>RMSE_validate</th>\n",
       "    </tr>\n",
       "  </thead>\n",
       "  <tbody>\n",
       "    <tr>\n",
       "      <th>0</th>\n",
       "      <td>baseline_mean</td>\n",
       "      <td>596704.058777</td>\n",
       "      <td>621286.160927</td>\n",
       "    </tr>\n",
       "    <tr>\n",
       "      <th>1</th>\n",
       "      <td>baseline_median</td>\n",
       "      <td>612533.700708</td>\n",
       "      <td>636062.789038</td>\n",
       "    </tr>\n",
       "    <tr>\n",
       "      <th>2</th>\n",
       "      <td>linear regression</td>\n",
       "      <td>472279.858426</td>\n",
       "      <td>489895.075498</td>\n",
       "    </tr>\n",
       "    <tr>\n",
       "      <th>3</th>\n",
       "      <td>LassoLars regression</td>\n",
       "      <td>472280.261697</td>\n",
       "      <td>489907.106506</td>\n",
       "    </tr>\n",
       "  </tbody>\n",
       "</table>\n",
       "</div>"
      ],
      "text/plain": [
       "                  model     RMSE_train  RMSE_validate\n",
       "0         baseline_mean  596704.058777  621286.160927\n",
       "1       baseline_median  612533.700708  636062.789038\n",
       "2     linear regression  472279.858426  489895.075498\n",
       "3  LassoLars regression  472280.261697  489907.106506"
      ]
     },
     "execution_count": 18,
     "metadata": {},
     "output_type": "execute_result"
    }
   ],
   "source": [
    "# Create model\n",
    "lars = LassoLars(alpha=1.0)\n",
    "lars.fit(x_train, y_train['taxvaluedollarcnt'])\n",
    "y_train['lars_train_pred'] = lars.predict(x_train)\n",
    "y_validate['lars_validate_pred'] = lars.predict(x_validate)\n",
    "# Calculate RMSE to compare\n",
    "lars_rmse = {\n",
    "    'model':'LassoLars regression',\n",
    "    'RMSE_train': mean_squared_error(y_train['taxvaluedollarcnt'], y_train['lars_train_pred'])**(0.5),\n",
    "    'RMSE_validate': mean_squared_error(y_validate['taxvaluedollarcnt'], y_validate['lars_validate_pred'])**(0.5)\n",
    "\n",
    "}\n",
    "results.append(lars_rmse)\n",
    "pd.DataFrame(results)"
   ]
  },
  {
   "cell_type": "markdown",
   "id": "90331df1",
   "metadata": {},
   "source": [
    "#### LassoLars beats both baselines and is extremely close to Linnear Regression model."
   ]
  },
  {
   "cell_type": "markdown",
   "id": "bbf49aaf",
   "metadata": {},
   "source": [
    "## Polynomial Regression"
   ]
  },
  {
   "cell_type": "code",
   "execution_count": 19,
   "id": "902011c8",
   "metadata": {},
   "outputs": [
    {
     "data": {
      "text/html": [
       "<div>\n",
       "<style scoped>\n",
       "    .dataframe tbody tr th:only-of-type {\n",
       "        vertical-align: middle;\n",
       "    }\n",
       "\n",
       "    .dataframe tbody tr th {\n",
       "        vertical-align: top;\n",
       "    }\n",
       "\n",
       "    .dataframe thead th {\n",
       "        text-align: right;\n",
       "    }\n",
       "</style>\n",
       "<table border=\"1\" class=\"dataframe\">\n",
       "  <thead>\n",
       "    <tr style=\"text-align: right;\">\n",
       "      <th></th>\n",
       "      <th>model</th>\n",
       "      <th>RMSE_train</th>\n",
       "      <th>RMSE_validate</th>\n",
       "    </tr>\n",
       "  </thead>\n",
       "  <tbody>\n",
       "    <tr>\n",
       "      <th>0</th>\n",
       "      <td>baseline_mean</td>\n",
       "      <td>596704.058777</td>\n",
       "      <td>621286.160927</td>\n",
       "    </tr>\n",
       "    <tr>\n",
       "      <th>1</th>\n",
       "      <td>baseline_median</td>\n",
       "      <td>612533.700708</td>\n",
       "      <td>636062.789038</td>\n",
       "    </tr>\n",
       "    <tr>\n",
       "      <th>2</th>\n",
       "      <td>linear regression</td>\n",
       "      <td>472279.858426</td>\n",
       "      <td>489895.075498</td>\n",
       "    </tr>\n",
       "    <tr>\n",
       "      <th>3</th>\n",
       "      <td>LassoLars regression</td>\n",
       "      <td>472280.261697</td>\n",
       "      <td>489907.106506</td>\n",
       "    </tr>\n",
       "    <tr>\n",
       "      <th>4</th>\n",
       "      <td>Polynomial regression</td>\n",
       "      <td>450764.891992</td>\n",
       "      <td>469818.556121</td>\n",
       "    </tr>\n",
       "  </tbody>\n",
       "</table>\n",
       "</div>"
      ],
      "text/plain": [
       "                   model     RMSE_train  RMSE_validate\n",
       "0          baseline_mean  596704.058777  621286.160927\n",
       "1        baseline_median  612533.700708  636062.789038\n",
       "2      linear regression  472279.858426  489895.075498\n",
       "3   LassoLars regression  472280.261697  489907.106506\n",
       "4  Polynomial regression  450764.891992  469818.556121"
      ]
     },
     "execution_count": 19,
     "metadata": {},
     "output_type": "execute_result"
    }
   ],
   "source": [
    "#Polynomial Features\n",
    "pr = PolynomialFeatures(degree=2)\n",
    "x_train_degree2 = pr.fit_transform(x_train)\n",
    "x_validate_degree2 = pr.transform(x_validate)\n",
    "x_test_degree2 = pr.transform(x_test)\n",
    "# create the model object\n",
    "lr2 = LinearRegression(normalize=True)\n",
    "# fit the model to our training data. We must specify the column in y_train, \n",
    "# since we have converted it to a dataframe from a series\n",
    "lr2.fit(x_train_degree2, y_train['taxvaluedollarcnt'])\n",
    "y_train['poly_train_pred'] = lr2.predict(x_train_degree2)\n",
    "y_validate['poly_validate_pred'] = lr2.predict(x_validate_degree2)\n",
    "# Calculate RMSE to compare \n",
    "poly_rmse = {\n",
    "    'model':'Polynomial regression',\n",
    "    'RMSE_train': mean_squared_error(y_train['taxvaluedollarcnt'], y_train['poly_train_pred'])**(0.5),\n",
    "    'RMSE_validate': mean_squared_error(y_validate['taxvaluedollarcnt'], y_validate['poly_validate_pred'])**(0.5),\n",
    "    \n",
    "}\n",
    "results.append(poly_rmse)\n",
    "pd.DataFrame(results)"
   ]
  },
  {
   "cell_type": "markdown",
   "id": "fb0fc5d2",
   "metadata": {},
   "source": [
    "#### The Polynomial Regression model not only beats the baselines, but beats the LassoLars and Linear as well. Polynomial is our best peforming model and will be moved into our test phase."
   ]
  },
  {
   "cell_type": "code",
   "execution_count": 25,
   "id": "1b8fac93",
   "metadata": {},
   "outputs": [
    {
     "name": "stdout",
     "output_type": "stream",
     "text": [
      "RMSE for Polynomial Model, degrees=2\n",
      "Test:  436046.3117047775\n"
     ]
    }
   ],
   "source": [
    "# Test\n",
    "y_test['poly_test_pred'] = lr2.predict(x_test_degree2)\n",
    "rmse_test_poly = mean_squared_error(y_test['taxvaluedollarcnt'], y_test['poly_test_pred'])**(0.5)\n",
    "\n",
    "\n",
    "print(\"RMSE for Polynomial Model, degrees=2\\nTest: \", rmse_test_poly)"
   ]
  },
  {
   "cell_type": "markdown",
   "id": "02dcfbbd",
   "metadata": {},
   "source": [
    "## Polynomial Regression Model Visualized"
   ]
  },
  {
   "cell_type": "code",
   "execution_count": 35,
   "id": "c6d75fbd",
   "metadata": {},
   "outputs": [
    {
     "data": {
      "image/png": "[encoded data removed]",
      "text/plain": [
       "<Figure size 720x432 with 1 Axes>"
      ]
     },
     "metadata": {
      "needs_background": "light"
     },
     "output_type": "display_data"
    }
   ],
   "source": [
    "# plot to visualize actual vs predicted. \n",
    "plt.figure(figsize=(10,6))\n",
    "plt.hist(y_test.poly_test_pred, color='blue', alpha=.5, label=\"Polynomial Regression Model\")\n",
    "plt.hist(y_test.taxvaluedollarcnt, color='red', alpha=.5, label=\"Actual Property Tax Value\")\n",
    "plt.xlabel(\"Distribution\")\n",
    "plt.ylabel(\"Tax Value\")\n",
    "plt.title(\"Comparing the Distribution of Tax Value to Distributions of Predicted Tax Value\")\n",
    "plt.legend()\n",
    "plt.show()"
   ]
  },
  {
   "cell_type": "markdown",
   "id": "c7ceaa90",
   "metadata": {},
   "source": [
    "# In conclusion:"
   ]
  },
  {
   "cell_type": "markdown",
   "id": "1ec0c66a",
   "metadata": {},
   "source": [
    "### After our testing, we were able to prove that the major features in predicting property tax were bathroom count, bedroom count and square feet. \n",
    "\n",
    "#### Out of all of the models tested, Polynomial did the best and beat both the mean and median baseline.\n",
    "#### Although the LassoLars and Linear Regression models couldn't beat Polynomial, they still both beat the baseline mean and median as well."
   ]
  },
  {
   "cell_type": "markdown",
   "id": "8f5a125f",
   "metadata": {},
   "source": [
    "### With more time:\n",
    "\n",
    "- I would like to delve into the zip codes/counties deeper. There were some big difference is tax values and a common theme was that Los Angeles tended to have a higher tax value in all the features explored.\n",
    "\n",
    "- Bring in new features that weren't used this time around such as room count, pool count and size, fireplace, and fire place count. I feel that these features could definitely play into higher property tax value.\n",
    "\n",
    "- Look into the years built a little further. Are houses from a certain time period or before/after a certain time period tending to have higher property tax values?\n",
    "\n",
    "- Possibly bringing in newer datasets for property value would be smart, as the data set used was 5 years old and a Pandemic happened since this was taken. Property value will have more than likely changed.\n",
    "\n",
    "### Recommendations:\n",
    "\n",
    "- Focus on the square feet, bedroom and bathroom count when attempting to predict property value.\n",
    "\n",
    "- When attempting to predict, because the zip codes seem to have big differences in overall tax value, it may be best to focus on one zip at a time.\n",
    "\n"
   ]
  }
 ],
 "metadata": {
  "kernelspec": {
   "display_name": "Python 3 (ipykernel)",
   "language": "python",
   "name": "python3"
  },
  "language_info": {
   "codemirror_mode": {
    "name": "ipython",
    "version": 3
   },
   "file_extension": ".py",
   "mimetype": "text/x-python",
   "name": "python",
   "nbconvert_exporter": "python",
   "pygments_lexer": "ipython3",
   "version": "3.9.7"
  }
 },
 "nbformat": 4,
 "nbformat_minor": 5
}
