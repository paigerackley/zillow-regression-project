{
 "cells": [
  {
   "cell_type": "code",
   "execution_count": 26,
   "id": "5d6e5c87",
   "metadata": {},
   "outputs": [],
   "source": [
    "import warnings\n",
    "warnings.filterwarnings(\"ignore\")\n",
    "\n",
    "import pandas as pd\n",
    "import matplotlib.pyplot as plt\n",
    "import seaborn as sns\n",
    "import numpy as np\n",
    "\n",
    "from sklearn.model_selection import train_test_split\n",
    "from sklearn.model_selection import train_test_split\n",
    "from sklearn.preprocessing import MinMaxScaler, StandardScaler, RobustScaler\n",
    "\n",
    "# Custom Imports\n",
    "import wrangle\n",
    "from env import get_db_url"
   ]
  },
  {
   "cell_type": "markdown",
   "id": "53de6db2",
   "metadata": {},
   "source": [
    "## Acquire"
   ]
  },
  {
   "cell_type": "code",
   "execution_count": 27,
   "id": "8e47ecaa",
   "metadata": {},
   "outputs": [
    {
     "data": {
      "text/html": [
       "<div>\n",
       "<style scoped>\n",
       "    .dataframe tbody tr th:only-of-type {\n",
       "        vertical-align: middle;\n",
       "    }\n",
       "\n",
       "    .dataframe tbody tr th {\n",
       "        vertical-align: top;\n",
       "    }\n",
       "\n",
       "    .dataframe thead th {\n",
       "        text-align: right;\n",
       "    }\n",
       "</style>\n",
       "<table border=\"1\" class=\"dataframe\">\n",
       "  <thead>\n",
       "    <tr style=\"text-align: right;\">\n",
       "      <th></th>\n",
       "      <th>bedroomcnt</th>\n",
       "      <th>bathroomcnt</th>\n",
       "      <th>calculatedfinishedsquarefeet</th>\n",
       "      <th>taxvaluedollarcnt</th>\n",
       "      <th>yearbuilt</th>\n",
       "      <th>zipcode</th>\n",
       "      <th>fips</th>\n",
       "    </tr>\n",
       "  </thead>\n",
       "  <tbody>\n",
       "    <tr>\n",
       "      <th>0</th>\n",
       "      <td>2.0</td>\n",
       "      <td>2.5</td>\n",
       "      <td>1348.0</td>\n",
       "      <td>343967.0</td>\n",
       "      <td>1979.0</td>\n",
       "      <td>96962.0</td>\n",
       "      <td>6059.0</td>\n",
       "    </tr>\n",
       "    <tr>\n",
       "      <th>1</th>\n",
       "      <td>3.0</td>\n",
       "      <td>2.0</td>\n",
       "      <td>1221.0</td>\n",
       "      <td>367034.0</td>\n",
       "      <td>1955.0</td>\n",
       "      <td>97047.0</td>\n",
       "      <td>6059.0</td>\n",
       "    </tr>\n",
       "    <tr>\n",
       "      <th>2</th>\n",
       "      <td>3.0</td>\n",
       "      <td>2.0</td>\n",
       "      <td>1462.0</td>\n",
       "      <td>79713.0</td>\n",
       "      <td>1950.0</td>\n",
       "      <td>96213.0</td>\n",
       "      <td>6037.0</td>\n",
       "    </tr>\n",
       "    <tr>\n",
       "      <th>3</th>\n",
       "      <td>2.0</td>\n",
       "      <td>1.0</td>\n",
       "      <td>768.0</td>\n",
       "      <td>270458.0</td>\n",
       "      <td>1926.0</td>\n",
       "      <td>96486.0</td>\n",
       "      <td>6037.0</td>\n",
       "    </tr>\n",
       "    <tr>\n",
       "      <th>4</th>\n",
       "      <td>4.0</td>\n",
       "      <td>4.0</td>\n",
       "      <td>3696.0</td>\n",
       "      <td>940251.0</td>\n",
       "      <td>1989.0</td>\n",
       "      <td>96325.0</td>\n",
       "      <td>6037.0</td>\n",
       "    </tr>\n",
       "  </tbody>\n",
       "</table>\n",
       "</div>"
      ],
      "text/plain": [
       "   bedroomcnt  bathroomcnt  calculatedfinishedsquarefeet  taxvaluedollarcnt  \\\n",
       "0         2.0          2.5                        1348.0           343967.0   \n",
       "1         3.0          2.0                        1221.0           367034.0   \n",
       "2         3.0          2.0                        1462.0            79713.0   \n",
       "3         2.0          1.0                         768.0           270458.0   \n",
       "4         4.0          4.0                        3696.0           940251.0   \n",
       "\n",
       "   yearbuilt  zipcode    fips  \n",
       "0     1979.0  96962.0  6059.0  \n",
       "1     1955.0  97047.0  6059.0  \n",
       "2     1950.0  96213.0  6037.0  \n",
       "3     1926.0  96486.0  6037.0  \n",
       "4     1989.0  96325.0  6037.0  "
      ]
     },
     "execution_count": 27,
     "metadata": {},
     "output_type": "execute_result"
    }
   ],
   "source": [
    "# Find all of the \"Single Family Residential\" properties from 2017 AND predictions.\n",
    "db_name = 'zillow'\n",
    "filename='zillow.csv'\n",
    "sql = \"\"\"\n",
    "    SELECT bedroomcnt,\n",
    "        bathroomcnt, \n",
    "        calculatedfinishedsquarefeet, \n",
    "        taxvaluedollarcnt, \n",
    "        yearbuilt, \n",
    "        regionidzip as zipcode, \n",
    "        fips\n",
    "    FROM properties_2017\n",
    "        JOIN propertylandusetype USING(propertylandusetypeid)\n",
    "        JOIN predictions_2017 USING(parcelid)\n",
    "    WHERE propertylandusedesc = 'Single Family Residential' AND transactiondate LIKE '2017%%';\n",
    "    \"\"\"\n",
    "#Read SQL from file\n",
    "df = pd.read_sql(sql,get_db_url(db_name))\n",
    "    #write to disk - writes index as col 0:\n",
    "df.to_csv(filename)\n",
    "\n",
    "df.head()"
   ]
  },
  {
   "cell_type": "markdown",
   "id": "79c53447",
   "metadata": {},
   "source": [
    "### Prepare"
   ]
  },
  {
   "cell_type": "code",
   "execution_count": 28,
   "id": "15556815",
   "metadata": {},
   "outputs": [
    {
     "data": {
      "text/plain": [
       "bedroomcnt                        0\n",
       "bathroomcnt                       0\n",
       "calculatedfinishedsquarefeet     82\n",
       "taxvaluedollarcnt                 1\n",
       "yearbuilt                       116\n",
       "zipcode                          26\n",
       "fips                              0\n",
       "dtype: int64"
      ]
     },
     "execution_count": 28,
     "metadata": {},
     "output_type": "execute_result"
    }
   ],
   "source": [
    "# Check for nulls\n",
    "df.isnull().sum()"
   ]
  },
  {
   "cell_type": "markdown",
   "id": "42c190fe",
   "metadata": {},
   "source": [
    "#### There is a lot of nulls it looks like, how much of the dataset is it really?"
   ]
  },
  {
   "cell_type": "code",
   "execution_count": 29,
   "id": "733f879d",
   "metadata": {},
   "outputs": [
    {
     "data": {
      "text/plain": [
       "0.9973"
      ]
     },
     "execution_count": 29,
     "metadata": {},
     "output_type": "execute_result"
    }
   ],
   "source": [
    "# If we drop all rows containing any null, how much data do we have left?\n",
    "round(df.dropna().shape[0] / df.shape[0], 4)"
   ]
  },
  {
   "cell_type": "code",
   "execution_count": 45,
   "id": "e5c7f3eb",
   "metadata": {},
   "outputs": [],
   "source": [
    "# Dropping nulls at this point\n",
    "df = df.dropna() "
   ]
  },
  {
   "cell_type": "markdown",
   "id": "61a949e7",
   "metadata": {},
   "source": [
    "#### Year built, FIPS, and taxvaluedollarcnt can be converted to integers w/o data loss\n"
   ]
  },
  {
   "cell_type": "code",
   "execution_count": 31,
   "id": "16d2c005",
   "metadata": {},
   "outputs": [
    {
     "data": {
      "text/plain": [
       "1.0"
      ]
     },
     "execution_count": 31,
     "metadata": {},
     "output_type": "execute_result"
    }
   ],
   "source": [
    "# 100% of calculatedfinishedsquarefeet can be converted to int w/o data loss\n",
    "(df.calculatedfinishedsquarefeet == df.calculatedfinishedsquarefeet.astype(int)).mean()"
   ]
  },
  {
   "cell_type": "code",
   "execution_count": 32,
   "id": "08019741",
   "metadata": {},
   "outputs": [
    {
     "data": {
      "text/plain": [
       "1.0"
      ]
     },
     "execution_count": 32,
     "metadata": {},
     "output_type": "execute_result"
    }
   ],
   "source": [
    "# 100% of taxvaluedollarcnt can lose the deicimal and be OK\n",
    "(df.taxvaluedollarcnt == df.taxvaluedollarcnt.astype(int)).mean()"
   ]
  },
  {
   "cell_type": "code",
   "execution_count": 33,
   "id": "80921593",
   "metadata": {},
   "outputs": [
    {
     "data": {
      "text/plain": [
       "0.872810707456979"
      ]
     },
     "execution_count": 33,
     "metadata": {},
     "output_type": "execute_result"
    }
   ],
   "source": [
    "(df.bathroomcnt == df.bathroomcnt.astype(int)).mean()"
   ]
  },
  {
   "cell_type": "code",
   "execution_count": 34,
   "id": "7ea4dace",
   "metadata": {},
   "outputs": [],
   "source": [
    "# changing fips, yearbuilt, and bedrooms to integers\n",
    "df[\"fips\"] = df[\"fips\"].astype(int)\n",
    "df[\"yearbuilt\"] = df[\"yearbuilt\"].astype(int)\n",
    "df[\"bedroomcnt\"] = df[\"bedroomcnt\"].astype(int)\n",
    "df[\"taxvaluedollarcnt\"] = df[\"taxvaluedollarcnt\"].astype(int)\n",
    "df[\"calculatedfinishedsquarefeet\"] = df[\"calculatedfinishedsquarefeet\"].astype(int)"
   ]
  },
  {
   "cell_type": "code",
   "execution_count": 35,
   "id": "d7c5d03d",
   "metadata": {},
   "outputs": [],
   "source": [
    "# readability\n",
    "df = df.rename(columns={'calculatedfinishedsquarefeet': 'square_feet'}) "
   ]
  },
  {
   "cell_type": "code",
   "execution_count": 36,
   "id": "65563710",
   "metadata": {},
   "outputs": [],
   "source": [
    "# Eliminate the funky values\n",
    "df = df[df['square_feet'] > 400]\n",
    "df = df[df['square_feet'] < 100000]\n",
    "df = df[df['taxvaluedollarcnt'] > 10000]\n",
    "df = df[df['taxvaluedollarcnt'] < 20000000]\n",
    "df = df[df['bathroomcnt'] > 0]\n",
    "df = df[df['bedroomcnt'] > 0]\n",
    "df = df[df['bathroomcnt'] < 7]\n",
    "df = df[df['bedroomcnt'] < 7]"
   ]
  },
  {
   "cell_type": "code",
   "execution_count": 37,
   "id": "202f6b76",
   "metadata": {},
   "outputs": [],
   "source": [
    "# Convert Fips to Names\n",
    "df['fips_name'] = np.where(df.fips == 6037, 'Los Angeles', np.where(df.fips == 6059, 'Orange','Ventura') )\n",
    "df = df.drop(columns = 'fips')"
   ]
  },
  {
   "cell_type": "markdown",
   "id": "bed25eb1",
   "metadata": {},
   "source": [
    "#### All code step by step above is used in wrangle.py"
   ]
  }
 ],
 "metadata": {
  "kernelspec": {
   "display_name": "Python 3 (ipykernel)",
   "language": "python",
   "name": "python3"
  },
  "language_info": {
   "codemirror_mode": {
    "name": "ipython",
    "version": 3
   },
   "file_extension": ".py",
   "mimetype": "text/x-python",
   "name": "python",
   "nbconvert_exporter": "python",
   "pygments_lexer": "ipython3",
   "version": "3.9.7"
  }
 },
 "nbformat": 4,
 "nbformat_minor": 5
}
